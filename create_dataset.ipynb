{
 "cells": [
  {
   "cell_type": "code",
   "execution_count": 7,
   "metadata": {},
   "outputs": [
    {
     "name": "stdout",
     "output_type": "stream",
     "text": [
      "Enter your name: olawale\n"
     ]
    }
   ],
   "source": [
    "import cv2\n",
    "import numpy as np \n",
    "import sqlite3\n",
    "import os\n",
    "conn = sqlite3.connect('database.db')\n",
    "if not os.path.exists('./dataset'):\n",
    "    os.makedirs('./dataset')\n",
    "c = conn.cursor()\n",
    "face_cascade = cv2.CascadeClassifier('haarcascade_frontalface_default.xml')\n",
    "cap = cv2.VideoCapture(0)\n",
    "uname = input(\"Enter your name: \")\n",
    "c.execute('INSERT INTO users (name) VALUES (?)', (uname,))\n",
    "uid = c.lastrowid\n",
    "sampleNum = 0\n",
    "while True:\n",
    "  ret, img = cap.read()\n",
    "  gray = cv2.cvtColor(img, cv2.COLOR_BGR2GRAY)\n",
    "  faces = face_cascade.detectMultiScale(gray, 1.3, 5)\n",
    "  for (x,y,w,h) in faces:\n",
    "    sampleNum = sampleNum+1\n",
    "    cv2.imwrite(\"dataset/User.\"+str(uid)+\".\"+str(sampleNum)+\".jpg\",gray[y:y+h,x:x+w])\n",
    "    cv2.rectangle(img, (x,y), (x+w, y+h), (255,0,0), 2)\n",
    "    cv2.waitKey(100)\n",
    "  cv2.imshow('img',img)\n",
    "  cv2.waitKey(1);\n",
    "  if sampleNum > 20:\n",
    "    break\n",
    "cap.release()\n",
    "conn.commit()\n",
    "conn.close()\n",
    "cv2.destroyAllWindows()"
   ]
  },
  {
   "cell_type": "markdown",
   "metadata": {},
   "source": []
  },
  {
   "cell_type": "code",
   "execution_count": null,
   "metadata": {
    "collapsed": true
   },
   "outputs": [],
   "source": []
  }
 ],
 "metadata": {
  "kernelspec": {
   "display_name": "Python 3",
   "language": "python",
   "name": "python3"
  },
  "language_info": {
   "codemirror_mode": {
    "name": "ipython",
    "version": 3
   },
   "file_extension": ".py",
   "mimetype": "text/x-python",
   "name": "python",
   "nbconvert_exporter": "python",
   "pygments_lexer": "ipython3",
   "version": "3.6.3"
  }
 },
 "nbformat": 4,
 "nbformat_minor": 2
}
